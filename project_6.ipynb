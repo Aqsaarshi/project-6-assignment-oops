{
  "nbformat": 4,
  "nbformat_minor": 0,
  "metadata": {
    "colab": {
      "provenance": [],
      "authorship_tag": "ABX9TyOLoO3965d4hLmkyZou6pnF",
      "include_colab_link": true
    },
    "kernelspec": {
      "name": "python3",
      "display_name": "Python 3"
    },
    "language_info": {
      "name": "python"
    }
  },
  "cells": [
    {
      "cell_type": "markdown",
      "metadata": {
        "id": "view-in-github",
        "colab_type": "text"
      },
      "source": [
        "<a href=\"https://colab.research.google.com/github/Aqsaarshi/project-6-assignment-oops/blob/main/project_6.ipynb\" target=\"_parent\"><img src=\"https://colab.research.google.com/assets/colab-badge.svg\" alt=\"Open In Colab\"/></a>"
      ]
    },
    {
      "cell_type": "markdown",
      "source": [
        "#1. Using self Assignment:\n",
        "Create a class Student with attributes name and marks. Use the self keyword to initialize these values via a constructor. Add a method display() that prints student details."
      ],
      "metadata": {
        "id": "zYiWdpDXG5o9"
      }
    },
    {
      "cell_type": "code",
      "source": [
        "class Student:\n",
        "    def __init__(self,name,marks):\n",
        "        self.name=name   #using self to assign instance variables\n",
        "        self.marks=marks\n",
        "    def display(self):\n",
        "        print(f\"Name: {self.name}, Marks: {self.marks}\")\n",
        "\n",
        "student1: Student = Student(\"Aqsa\" , 90)\n",
        "student1.display()\n",
        "student2: Student = Student(\"Bisma\" , 80)\n",
        "student2.display()\n"
      ],
      "metadata": {
        "colab": {
          "base_uri": "https://localhost:8080/"
        },
        "id": "mI3fMFIkHFKo",
        "outputId": "c4a0561d-a2fa-4ad9-d0a9-5d7f7e718015"
      },
      "execution_count": null,
      "outputs": [
        {
          "output_type": "stream",
          "name": "stdout",
          "text": [
            "Name: Aqsa, Marks: 90\n",
            "Name: Bisma, Marks: 80\n"
          ]
        }
      ]
    },
    {
      "cell_type": "markdown",
      "source": [
        "#2. Using cls Assignment:\n",
        "Create a class Counter that keeps track of how many objects have been created. Use a class variable and a class method with cls to manage and display the count."
      ],
      "metadata": {
        "id": "Rss0PrfjJuc5"
      }
    },
    {
      "cell_type": "code",
      "source": [
        "class Counter:\n",
        "    object_count = 0\n",
        "    def __init__(self):\n",
        "        Counter.object_count += 1\n",
        "    @classmethod\n",
        "    def display_count(cls):\n",
        "        print(\"Total Object Created: \", cls.object_count)\n",
        "\n",
        "# Create objects\n",
        "object1: Counter = Counter()\n",
        "object2: Counter = Counter()\n",
        "object3: Counter = Counter()\n",
        "\n",
        "# Display count\n",
        "Counter.display_count()"
      ],
      "metadata": {
        "colab": {
          "base_uri": "https://localhost:8080/"
        },
        "id": "WKNR7D3JJzsO",
        "outputId": "dbcfc305-a45a-493b-bc2a-5fdfb8314fbf"
      },
      "execution_count": null,
      "outputs": [
        {
          "output_type": "stream",
          "name": "stdout",
          "text": [
            "Total Object Created:  3\n"
          ]
        }
      ]
    },
    {
      "cell_type": "markdown",
      "source": [
        "#3. Public Variables and Methods Assignment:\n",
        "Create a class Car with a public variable brand and a public method start(). Instantiate the class and access both from outside the class.\n",
        "\n"
      ],
      "metadata": {
        "id": "xt8Fd8YEMkoY"
      }
    },
    {
      "cell_type": "code",
      "source": [
        "class Car:\n",
        "    def __init__ (self, brand):\n",
        "        self.brand = brand\n",
        "    def start(self):\n",
        "        print(f\"{self.brand} car is starting ...\")\n",
        "\n",
        "#object bna rahe hain\n",
        "my_car = Car(\"Honda\")\n",
        "\n",
        "# Public varaible access\n",
        "print(f\"Brand: {my_car.brand}\")\n",
        "\n",
        "# Public method call\n",
        "my_car.start()\n",
        "\n"
      ],
      "metadata": {
        "colab": {
          "base_uri": "https://localhost:8080/"
        },
        "id": "xGBfTorlMqAk",
        "outputId": "1ee6b9eb-5bfe-4911-9315-0787e068a935"
      },
      "execution_count": null,
      "outputs": [
        {
          "output_type": "stream",
          "name": "stdout",
          "text": [
            "Brand: Honda\n",
            "Honda car is starting ...\n"
          ]
        }
      ]
    },
    {
      "cell_type": "markdown",
      "source": [
        "#4. Class Variables and Class Methods Assignment:\n",
        "Create a class Bank with a class variable bank_name. Add a class method change_bank_name(cls, name) that allows changing the bank name. Show that it affects all instances.\n",
        "\n"
      ],
      "metadata": {
        "id": "R8vTqKRePYwK"
      }
    },
    {
      "cell_type": "code",
      "source": [
        "class Bank:\n",
        "    bank_name = 'Default Bank'  # Class variable\n",
        "\n",
        "    def __init__(self, account_holder):\n",
        "        self.account_holder = account_holder\n",
        "\n",
        "    @classmethod\n",
        "    def change_bank_name(cls, name):\n",
        "        cls.bank_name = name  # Updating class variable\n",
        "\n",
        "    def display(self):\n",
        "        print(f\"Account Holder: {self.account_holder}, Bank: {Bank.bank_name}\")\n",
        "\n",
        "# Create objects\n",
        "user1 = Bank(\"Aqsa\")\n",
        "user2 = Bank(\"Bisma\")\n",
        "\n",
        "# Display initial bank name\n",
        "user1.display()\n",
        "user2.display()\n",
        "\n",
        "# Change bank name using class method\n",
        "Bank.change_bank_name(\"Mezan Bank\")\n",
        "\n",
        "# Display updated bank name for all instances\n",
        "user1.display()\n",
        "user2.display()"
      ],
      "metadata": {
        "colab": {
          "base_uri": "https://localhost:8080/"
        },
        "id": "QKs5yvxbPmca",
        "outputId": "292846ec-e323-4b07-f1bf-b20cdd06514a"
      },
      "execution_count": null,
      "outputs": [
        {
          "output_type": "stream",
          "name": "stdout",
          "text": [
            "Account Holder: Aqsa, Bank: Default Bank\n",
            "Account Holder: Bisma, Bank: Default Bank\n",
            "Account Holder: Aqsa, Bank: Mezan Bank\n",
            "Account Holder: Bisma, Bank: Mezan Bank\n"
          ]
        }
      ]
    },
    {
      "cell_type": "markdown",
      "source": [
        "#5. Static Variables and Static Methods Assignment:\n",
        "Create a class MathUtils with a static method add(a, b) that returns the sum. No class or instance variables should be used.\n",
        "\n"
      ],
      "metadata": {
        "id": "zL9hCoytVsjO"
      }
    },
    {
      "cell_type": "code",
      "source": [
        "class MathUtils:\n",
        "  @staticmethod\n",
        "  def add(a,b):\n",
        "    \"\"\"\n",
        "    This method takes two numbers and returns their sum.\n",
        "\n",
        "    Args:\n",
        "    a: The first number.\n",
        "    b: The second number.\n",
        "\n",
        "    Returns:\n",
        "    The sum of a and b\n",
        "    \"\"\"\n",
        "    return a + b\n",
        "\n",
        "# Example usage\n",
        "result = MathUtils.add(5,3)\n",
        "print(result)"
      ],
      "metadata": {
        "id": "zSmpYBPHVvpD",
        "colab": {
          "base_uri": "https://localhost:8080/"
        },
        "outputId": "5ee8eafb-6e76-445d-e453-1ec495f8be5a"
      },
      "execution_count": null,
      "outputs": [
        {
          "output_type": "stream",
          "name": "stdout",
          "text": [
            "8\n"
          ]
        }
      ]
    },
    {
      "cell_type": "markdown",
      "source": [
        "#6. Constructors and Destructors Assignment:\n",
        "Create a class Logger that prints a message when an object is created (constructor) and another message when it is destroyed (destructor).\n",
        "\n"
      ],
      "metadata": {
        "id": "2fqALyRbJJEs"
      }
    },
    {
      "cell_type": "code",
      "source": [
        "class Logger:\n",
        "    def __init__(self):\n",
        "      \"\"\"\n",
        "      constructor: This is called when an object is created.\n",
        "      \"\"\"\n",
        "      print(\"Logger object created\")\n",
        "\n",
        "    def __del__(self):\n",
        "      \"\"\"\n",
        "      Destructor: This is called when an object is destroyed.\n",
        "      \"\"\"\n",
        "\n",
        "      print(\"Logger object destroyed\")\n",
        "\n",
        "\n",
        "#Create an instance of the Logger class\n",
        "logger = Logger()\n",
        "# The destructor will be called automatically when the object is no longer in use\n",
        "# For example, when the program ends or when the object is garbage collected"
      ],
      "metadata": {
        "colab": {
          "base_uri": "https://localhost:8080/"
        },
        "id": "DP029J8QJQCM",
        "outputId": "47796f5d-fba3-438e-adbb-e7c3defafb05"
      },
      "execution_count": null,
      "outputs": [
        {
          "output_type": "stream",
          "name": "stdout",
          "text": [
            "Logger object created\n"
          ]
        }
      ]
    },
    {
      "cell_type": "markdown",
      "source": [
        "#7. Access Modifiers: Public, Private, and Protected Assignment:\n",
        "Create a class Employee with:\n",
        "\n",
        "a public variable name,\n",
        "\n",
        "a protected variable _salary, and\n",
        "\n",
        "a private variable __ssn.\n",
        "\n",
        "Try accessing all three variables from an object of the class and document what happens."
      ],
      "metadata": {
        "id": "NT46FBGJLfnR"
      }
    },
    {
      "cell_type": "code",
      "source": [
        "class Employee:\n",
        "   def __init__(self,name,salary,ssn):\n",
        "    self.name = name\n",
        "    self._salary = salary\n",
        "    self.__ssn = ssn\n",
        "\n",
        "#Create an Employee object\n",
        "employee = Employee(\"Aqsa\",50000,\"123-456-789\")\n",
        "#Accessing the variables\n",
        "print(employee.name)\n",
        "print(employee._salary)\n",
        "#print(employee.__ssn)\n",
        "\n",
        "#Accessing the Private Variable using name mangling:\n",
        "print(employee._Employee__ssn)\n"
      ],
      "metadata": {
        "colab": {
          "base_uri": "https://localhost:8080/"
        },
        "id": "gBwMILmDLiH2",
        "outputId": "df6594b2-4f8f-42a0-d9c6-42ca5337282a"
      },
      "execution_count": null,
      "outputs": [
        {
          "output_type": "stream",
          "name": "stdout",
          "text": [
            "Aqsa\n",
            "50000\n",
            "123-456-789\n"
          ]
        }
      ]
    },
    {
      "cell_type": "markdown",
      "source": [
        "#8. The super() Function Assignment:\n",
        "Create a class Person with a constructor that sets the name. Inherit a class Teacher from it, add a subject field, and use super() to call the base class constructor."
      ],
      "metadata": {
        "id": "bZuq9DR2MvOy"
      }
    },
    {
      "cell_type": "code",
      "source": [
        "class Person:\n",
        "    def __init__(self, name):\n",
        "      self.name = name\n",
        "\n",
        "class Teacher(Person):\n",
        "  def __init__(self, name,subject):\n",
        "    super().__init__(name) # call the base class constructor using super()\n",
        "    self.subject = subject\n",
        "\n",
        "#Example uasge\n",
        "teacher = Teacher(\"Aqsa\",\"Mathematics\")\n",
        "print(f\"Teacher's name: {teacher.name}\")\n",
        "print(f\"Teacher's subject : {teacher.subject}\")\n"
      ],
      "metadata": {
        "id": "e4wNPhFQM5LG",
        "colab": {
          "base_uri": "https://localhost:8080/"
        },
        "outputId": "e7e240f4-699c-4929-e44a-e40c577dec04"
      },
      "execution_count": null,
      "outputs": [
        {
          "output_type": "stream",
          "name": "stdout",
          "text": [
            "Teacher's name: Aqsa\n",
            "Teacher's subject : Mathematics\n"
          ]
        }
      ]
    },
    {
      "cell_type": "markdown",
      "source": [
        "#9. Abstract Classes and Methods Assignment:\n",
        "Use the abc module to create an abstract class Shape with an abstract method area(). Inherit a class Rectangle that implements area().\n",
        "\n"
      ],
      "metadata": {
        "id": "vTnvix9boyWn"
      }
    },
    {
      "cell_type": "code",
      "source": [
        "from abc import ABC, abstractmethod\n",
        "\n",
        "class Shape(ABC):\n",
        "  @abstractmethod\n",
        "  def area(self):\n",
        "    pass\n",
        "\n",
        "class Rectangle(Shape):\n",
        "  def __init__(self,width,height):\n",
        "    self.width = width\n",
        "    self.height = height\n",
        "\n",
        "  def area(self):\n",
        "    return self.width * self.height\n",
        "\n",
        "#Example usage\n",
        "rectangle = Rectangle(5,10)\n",
        "print(f\"Area of the rectangle:{rectangle.area()}\")\n",
        "\n"
      ],
      "metadata": {
        "colab": {
          "base_uri": "https://localhost:8080/"
        },
        "id": "xOigeyvbpAV9",
        "outputId": "ab70ef7b-12a1-427d-a914-e813ad6eaae2"
      },
      "execution_count": null,
      "outputs": [
        {
          "output_type": "stream",
          "name": "stdout",
          "text": [
            "Area of the rectangle:50\n"
          ]
        }
      ]
    },
    {
      "cell_type": "markdown",
      "source": [
        "#10. Instance Methods Assignment:\n",
        "Create a class Dog with instance variables name and breed. Add an instance method bark() that prints a message including the dog's name."
      ],
      "metadata": {
        "id": "76qMY8Y5qMlH"
      }
    },
    {
      "cell_type": "code",
      "source": [
        "class Dog:\n",
        "  def __init__(self,name,breed):\n",
        "    self.name = name\n",
        "    self.breed = breed\n",
        "\n",
        "  def bark(self):\n",
        "    print(f\"{self.name} barks: Woof! Woof!\")\n",
        "\n",
        "#Example usage\n",
        "my_dog = Dog(\"Buddy\",\"Golden Retriever\")\n",
        "my_dog.bark()\n"
      ],
      "metadata": {
        "colab": {
          "base_uri": "https://localhost:8080/"
        },
        "id": "lrfoPtm3qPmH",
        "outputId": "f46dc245-92c7-4880-9860-067e096e44af"
      },
      "execution_count": null,
      "outputs": [
        {
          "output_type": "stream",
          "name": "stdout",
          "text": [
            "Buddy barks: Woof! Woof!\n"
          ]
        }
      ]
    },
    {
      "cell_type": "markdown",
      "source": [
        "#11. Class Methods Assignment:\n",
        "Create a class Book with a class variable total_books. Add a class method increment_book_count() to increase the count when a new book is added."
      ],
      "metadata": {
        "id": "tGm1W5MlrIpF"
      }
    },
    {
      "cell_type": "code",
      "source": [
        "class Book:\n",
        "  total_books = 0 #class variable to store the total number of books\n",
        "\n",
        "  def __init__(self,title,author):\n",
        "    self.title = title\n",
        "    self.author = author\n",
        "    Book.increment_book_count() #increment count when a new book is created\n",
        "\n",
        "  @classmethod\n",
        "  def increment_book_count(cls):\n",
        "    cls.total_books += 1\n",
        "\n",
        "  @classmethod\n",
        "  def get_total_books(cls):\n",
        "    return cls.total_books\n",
        "\n",
        "#Example usage\n",
        "book1 = Book(\"The Lord of the Rings\", \"J.R.R Tolkien\")\n",
        "book2 = Book(\"The Hitchhiker's Guide to the Galaxy\",\"Dougles Adams\")\n",
        "\n",
        "print(f\"Total Books: {Book.get_total_books()}\")\n"
      ],
      "metadata": {
        "colab": {
          "base_uri": "https://localhost:8080/"
        },
        "id": "VPZ8UY4OrMSS",
        "outputId": "3a94f1bc-6df1-4531-ea93-365d90fadde9"
      },
      "execution_count": null,
      "outputs": [
        {
          "output_type": "stream",
          "name": "stdout",
          "text": [
            "Total Books: 2\n"
          ]
        }
      ]
    },
    {
      "cell_type": "markdown",
      "source": [
        "#12. Static Methods Assignment:\n",
        "Create a class TemperatureConverter with a static method celsius_to_fahrenheit(c) that returns the Fahrenheit value."
      ],
      "metadata": {
        "id": "e90UyokGtPTv"
      }
    },
    {
      "cell_type": "code",
      "source": [
        "class TemperatureConverter:\n",
        "  @staticmethod\n",
        "  def celsius_to_fahrenheit(c):\n",
        "      \"\"\"Converts Celsius to Fahrenheit\n",
        "\n",
        "    Args:\n",
        "      c: The temperature in Celsius.\n",
        "\n",
        "    Returns:\n",
        "      The temperature in Farenheit.\n",
        "\n",
        "      \"\"\"\n",
        "      return (c * 9/5) + 32\n",
        "\n",
        "\n",
        "#Example usage\n",
        "celsius = 25\n",
        "fahrenheit = TemperatureConverter.celsius_to_fahrenheit(celsius)\n",
        "print(f\"{celsius}.C is equal to {fahrenheit:.2f}.F\")\n",
        "\n",
        "\n"
      ],
      "metadata": {
        "colab": {
          "base_uri": "https://localhost:8080/"
        },
        "id": "UEs6-0BstTTf",
        "outputId": "f1d54dfc-997b-4739-d42f-c26f5975b9ae"
      },
      "execution_count": null,
      "outputs": [
        {
          "output_type": "stream",
          "name": "stdout",
          "text": [
            "25.C is equal to 77.00.F\n"
          ]
        }
      ]
    },
    {
      "cell_type": "markdown",
      "source": [
        "#13. Composition Assignment:\n",
        "Create a class Engine and a class Car. Use composition by passing an Engine object to the Car class during initialization. Access a method of the Engine class via the Car class.\n",
        "\n"
      ],
      "metadata": {
        "id": "eUarusURwO7L"
      }
    },
    {
      "cell_type": "code",
      "source": [
        "class Engine:\n",
        "  def __init__(self,horsepower):\n",
        "    self.horsepower = horsepower\n",
        "\n",
        "  def start(self):\n",
        "    print(\"Engine starting...\")\n",
        "\n",
        "class Car:\n",
        "  def __init__(self, make , model , engine):\n",
        "    self.make = make\n",
        "    self.model = model\n",
        "    self.engine = engine #Engine object is a part of the Car object\n",
        "\n",
        "  def start_car(self): # Corrected indentation\n",
        "    self.engine.start()\n",
        "    print(f\"{self.make} {self.model} is ready to go!\")\n",
        "\n",
        "#Example usage\n",
        "engine = Engine(200) # create an engine object\n",
        "car = Car(\"Toyota\", \"Camry\", engine) # create a car object with the Engine\n",
        "car.start_car()"
      ],
      "metadata": {
        "colab": {
          "base_uri": "https://localhost:8080/"
        },
        "id": "y6wcI94kwVg5",
        "outputId": "50a5c950-02f1-4f9c-f4e1-0bdf852b12a2"
      },
      "execution_count": null,
      "outputs": [
        {
          "output_type": "stream",
          "name": "stdout",
          "text": [
            "Engine starting...\n",
            "Toyota Camry is ready to go!\n"
          ]
        }
      ]
    },
    {
      "cell_type": "markdown",
      "source": [
        "#14. Aggregation Assignment:\n",
        "Create a class Department and a class Employee. Use aggregation by having a Department object store a reference to an Employee object that exists independently of it."
      ],
      "metadata": {
        "id": "EXtQbaNwy0wq"
      }
    },
    {
      "cell_type": "code",
      "source": [
        "class Employee:\n",
        "  def __init__(self,name,employee_id):\n",
        "    self.name = name\n",
        "    self.employee_id = employee_id\n",
        "\n",
        "  def display_info(self):\n",
        "      print(f\"Employee Name: {self.name},Employee ID: {self.employee_id}\")\n",
        "\n",
        "class Department:\n",
        "  def __init__(self,name,employee):\n",
        "    self.name = name\n",
        "    self.employee = employee\n",
        "\n",
        "  def display_info(self):\n",
        "      print(f\"Department Name: {self.name}\")\n",
        "      self.employee.display_info()\n",
        "\n",
        "#Example usage\n",
        "employee1 = Employee(\"Aqsa\",123456)\n",
        "department1 = Department(\"Sales\",employee1)\n",
        "\n",
        "#display information\n",
        "department1.display_info()"
      ],
      "metadata": {
        "colab": {
          "base_uri": "https://localhost:8080/"
        },
        "id": "WqXx0sDMy44s",
        "outputId": "9030ac7f-14a4-4948-a583-33e681a231e3"
      },
      "execution_count": null,
      "outputs": [
        {
          "output_type": "stream",
          "name": "stdout",
          "text": [
            "Department Name: Sales\n",
            "Employee Name: Aqsa,Employee ID: 123456\n"
          ]
        }
      ]
    },
    {
      "cell_type": "markdown",
      "source": [
        "#15. Method Resolution Order (MRO) and Diamond Inheritance Assignment:\n",
        "Create four classes:\n",
        "\n",
        "A with a method show(),\n",
        "\n",
        "B and C that inherit from A and override show(),\n",
        "\n",
        "D that inherits from both B and C.\n",
        "\n",
        "Create an object of D and call show() to observe MRO."
      ],
      "metadata": {
        "id": "HrT8iOGg1zZV"
      }
    },
    {
      "cell_type": "code",
      "source": [
        "class A:\n",
        "  def show(self):\n",
        "    print(\"This is method show() from class A\")\n",
        "\n",
        "class B(A):\n",
        "  def show(self):\n",
        "    print(\"This is method show() from classs B\")\n",
        "\n",
        "class C(A):\n",
        "  def show(self):\n",
        "    print(\"This is method show() from class C\")\n",
        "\n",
        "class D(B,C):\n",
        "  pass\n",
        "\n",
        "d_object = D()\n",
        "d_object.show()\n",
        "\n",
        "\n"
      ],
      "metadata": {
        "colab": {
          "base_uri": "https://localhost:8080/"
        },
        "id": "lyMcR--h16hj",
        "outputId": "c360ac71-f91f-4bac-f52a-3e659ce9ab2d"
      },
      "execution_count": null,
      "outputs": [
        {
          "output_type": "stream",
          "name": "stdout",
          "text": [
            "This is method show() from classs B\n"
          ]
        }
      ]
    },
    {
      "cell_type": "markdown",
      "source": [
        "#16. Function Decorators Assignment:\n",
        "Write a decorator function log_function_call that prints \"Function is being called\" before a function executes. Apply it to a function say_hello()"
      ],
      "metadata": {
        "id": "PYX6WXP33kV8"
      }
    },
    {
      "cell_type": "code",
      "source": [
        "def log_function_call(func):\n",
        "  \"\"\"Decorator that logs a function call before execution.\"\"\"\n",
        "\n",
        "  def wrapper(*args, **kwargs):\n",
        "    print(\"Function is being called\")\n",
        "    result = func(*args, **kwargs)\n",
        "    return result\n",
        "  return wrapper\n",
        "\n",
        "@log_function_call\n",
        "def say_hello(name):\n",
        "    print(f\"Hello,{name}!\")\n",
        "#call the decorated function\n",
        "say_hello(\"Aqsa\")"
      ],
      "metadata": {
        "colab": {
          "base_uri": "https://localhost:8080/"
        },
        "id": "7G292HGP3p1A",
        "outputId": "b68c20c4-6448-4590-e484-64ce26a88a79"
      },
      "execution_count": null,
      "outputs": [
        {
          "output_type": "stream",
          "name": "stdout",
          "text": [
            "Function is being called\n",
            "Hello,Aqsa!\n"
          ]
        }
      ]
    },
    {
      "cell_type": "markdown",
      "source": [
        "#17. Class Decorators Assignment:\n",
        "Create a class decorator add_greeting that modifies a class to add a greet() method returning \"Hello from Decorator!\". Apply it to a class Person."
      ],
      "metadata": {
        "id": "XtEEGqFd5m7R"
      }
    },
    {
      "cell_type": "code",
      "source": [
        "def add_greeting(cls):\n",
        "  \"\"\"Class decorator that adds a greet() method to a class.\"\"\"\n",
        "\n",
        "  def greet(self):\n",
        "    return \"Hello from Decorator!\"\n",
        "\n",
        "  #Add the greet() method to the class\n",
        "  setattr(cls, 'greet', greet)\n",
        "  return cls # Return the modified class\n",
        "\n",
        "@add_greeting\n",
        "class Person:\n",
        "  def __init__(self, name):\n",
        "    self.name = name\n",
        "\n",
        "  def introduce(self):\n",
        "    print(f\"My name is {self.name}\")\n",
        "\n",
        "#Create an instance of the Person class\n",
        "person = Person(\"Aqsa\")\n",
        "\n",
        "#call the added greet() method\n",
        "print(person.greet())\n",
        "\n",
        "#call the original introduce() method\n",
        "person.introduce()"
      ],
      "metadata": {
        "colab": {
          "base_uri": "https://localhost:8080/"
        },
        "id": "Pr2tbUcR5qtr",
        "outputId": "79ba4d40-6c15-4570-90cc-4f39c2d30547"
      },
      "execution_count": null,
      "outputs": [
        {
          "output_type": "stream",
          "name": "stdout",
          "text": [
            "Hello from Decorator!\n",
            "My name is Aqsa\n"
          ]
        }
      ]
    },
    {
      "cell_type": "markdown",
      "source": [
        "#18. Property Decorators: @property, @setter, and @deleter Assignment:\n",
        "Create a class Product with a private attribute _price. Use @property to get the price, @price.setter to update it, and @price.deleter to delete it."
      ],
      "metadata": {
        "id": "06rjznXn9OX1"
      }
    },
    {
      "cell_type": "code",
      "source": [
        "class Product:\n",
        "    def __init__(self, name, price):\n",
        "        self.name = name\n",
        "        self._price = price  # Private attribute\n",
        "\n",
        "    @property\n",
        "    def price(self):\n",
        "        \"\"\"Get the price of the product.\"\"\"\n",
        "        return self._price\n",
        "\n",
        "    @price.setter\n",
        "    def price(self, new_price):\n",
        "        \"\"\"Set the price of the product.\"\"\"\n",
        "        if new_price >= 0:\n",
        "            self._price = new_price\n",
        "        else:\n",
        "            raise ValueError(\"Price cannot be negative\")\n",
        "\n",
        "    @price.deleter\n",
        "    def price(self):\n",
        "        \"\"\"Delete the price attribute.\"\"\"\n",
        "        del self._price\n",
        "\n",
        "# Example usage\n",
        "product = Product(\"Laptop\", 1200)\n",
        "\n",
        "# Get the price using the property\n",
        "print(f\"Original price: {product.price}\")  # Output: Original price: 1200\n",
        "\n",
        "# Update the price using the setter\n",
        "product.price = 1500\n",
        "print(f\"Updated price: {product.price}\")  # Output: Updated price: 1500\n",
        "\n",
        "# Try setting a negative price (will raise ValueError)\n",
        "try:\n",
        "    product.price = -50\n",
        "except ValueError as e:\n",
        "    print(e)  # Output: Price cannot be negative\n",
        "\n",
        "# Delete the price using the deleter\n",
        "del product.price\n",
        "\n",
        "# Trying to access the price after deletion will raise AttributeError\n",
        "try:\n",
        "    print(product.price)\n",
        "except AttributeError as e:\n",
        "    print(e)  # Output: 'Product' object has no attribute '_price'"
      ],
      "metadata": {
        "colab": {
          "base_uri": "https://localhost:8080/"
        },
        "id": "CAFqNE0N9TaE",
        "outputId": "be1ea9be-8fac-411b-d2c1-e69d956ece5c"
      },
      "execution_count": null,
      "outputs": [
        {
          "output_type": "stream",
          "name": "stdout",
          "text": [
            "Original price: 1200\n",
            "Updated price: 1500\n",
            "Price cannot be negative\n",
            "'Product' object has no attribute '_price'\n"
          ]
        }
      ]
    },
    {
      "cell_type": "markdown",
      "source": [
        "#19. callable() and __call__() Assignment:\n",
        "Create a class Multiplier with an __init__() to set a factor. Define a __call__() method that multiplies an input by the factor. Test it with callable() and by calling the object like a function."
      ],
      "metadata": {
        "id": "Xk7Pil4bcXsU"
      }
    },
    {
      "cell_type": "code",
      "source": [
        "class Multiplier:\n",
        "  def __init__(self,factor):\n",
        "    self.factor = factor\n",
        "\n",
        "  def __call__(self,number):\n",
        "    return number * self.factor\n",
        "\n",
        "# Create an instance of the Multiplier class with a factor of 3\n",
        "multiplier = Multiplier(3)\n",
        "\n",
        "# Check if the object is callable\n",
        "print(callable(multiplier))  # Output: True\n",
        "\n",
        "# Call the object like a function to multiply 5 by the factor (3)\n",
        "result = multiplier(5)\n",
        "print(result)"
      ],
      "metadata": {
        "id": "PaSpMjCIcgUR",
        "colab": {
          "base_uri": "https://localhost:8080/"
        },
        "outputId": "0889dc41-40d5-468b-c4a6-f71fc4e355b4"
      },
      "execution_count": 15,
      "outputs": [
        {
          "output_type": "stream",
          "name": "stdout",
          "text": [
            "True\n",
            "15\n"
          ]
        }
      ]
    },
    {
      "cell_type": "markdown",
      "source": [
        "#20. Creating a Custom Exception Assignment:\n",
        "Create a custom exception InvalidAgeError. Write a function check_age(age) that raises this exception if age < 18. Handle it with try...except.\n",
        "\n"
      ],
      "metadata": {
        "id": "5KMGnHP9dS3d"
      }
    },
    {
      "cell_type": "code",
      "source": [
        "class InvalidAgeError(Exception):\n",
        "    \"\"\"Raised when the input age is invalid (less than 18).\"\"\"\n",
        "    pass\n",
        "\n",
        "def check_age(age):\n",
        "    if age < 18:\n",
        "        raise InvalidAgeError(\"Age must be 18 or older.\")\n",
        "    else:\n",
        "        print(\"Age is valid.\")  # Now this line will execute if age >= 18\n",
        "\n",
        "try:\n",
        "    age = int(input(\"Enter your age: \"))\n",
        "    check_age(age)\n",
        "except InvalidAgeError as e:\n",
        "    print(f\"Error: {e}\")\n",
        "\n",
        "\n"
      ],
      "metadata": {
        "id": "PiyCt-BYdcoh",
        "colab": {
          "base_uri": "https://localhost:8080/"
        },
        "outputId": "656148e7-4354-4119-a75f-5498d698a4a8"
      },
      "execution_count": 17,
      "outputs": [
        {
          "output_type": "stream",
          "name": "stdout",
          "text": [
            "Enter your age: 50\n",
            "Age is valid.\n"
          ]
        }
      ]
    },
    {
      "cell_type": "markdown",
      "source": [
        "#21. Make a Custom Class Iterable Assignment:\n",
        "Create a class Countdown that takes a start number. Implement __iter__() and __next__() to make the object iterable in a for-loop, counting down to 0."
      ],
      "metadata": {
        "id": "KVw5cijAkWM9"
      }
    },
    {
      "cell_type": "code",
      "source": [
        "class Countdown:\n",
        "    def __init__(self, start):\n",
        "        self.start = start\n",
        "        self.current = start\n",
        "\n",
        "    def __iter__(self):\n",
        "        return self\n",
        "\n",
        "    def __next__(self):\n",
        "        if self.current < 0:\n",
        "            raise StopIteration\n",
        "        else:\n",
        "            value = self.current\n",
        "            self.current -= 1\n",
        "            return value\n",
        "\n",
        "# Example usage\n",
        "for num in Countdown(5):\n",
        "    print(num)\n"
      ],
      "metadata": {
        "colab": {
          "base_uri": "https://localhost:8080/"
        },
        "id": "Ato7uw5Tkbcw",
        "outputId": "76fd8a29-812a-42e2-bf22-f90c708ad0dd"
      },
      "execution_count": 25,
      "outputs": [
        {
          "output_type": "stream",
          "name": "stdout",
          "text": [
            "5\n",
            "4\n",
            "3\n",
            "2\n",
            "1\n",
            "0\n"
          ]
        }
      ]
    }
  ]
}